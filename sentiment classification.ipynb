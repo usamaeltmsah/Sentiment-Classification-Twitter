{
 "cells": [
  {
   "cell_type": "markdown",
   "metadata": {},
   "source": [
    "# 1. Read Dataset"
   ]
  },
  {
   "cell_type": "code",
   "execution_count": 60,
   "metadata": {},
   "outputs": [],
   "source": [
    "# Read all the data from csv file\n",
    "def read_dataset(file_path):\n",
    "    import pandas as pd\n",
    "    names = ['airline_sentiment', 'text']\n",
    "    data = pd.read_csv(file_path, names = names, header=0)\n",
    "    return data"
   ]
  },
  {
   "cell_type": "code",
   "execution_count": 61,
   "metadata": {},
   "outputs": [],
   "source": [
    "def read_train_test_data(dir='Data'):\n",
    "    train_data = read_dataset(dir + \"/train.csv\")\n",
    "    test_data = read_dataset(dir + \"/test.csv\")\n",
    "    return train_data, test_data"
   ]
  },
  {
   "cell_type": "code",
   "execution_count": 62,
   "metadata": {},
   "outputs": [],
   "source": [
    "def sep_text_sentiment(data):\n",
    "    return data.iloc[:, 1].values.tolist(), data.iloc[:, 0].values.tolist()"
   ]
  },
  {
   "cell_type": "markdown",
   "metadata": {},
   "source": [
    "# 2. Data Cleaning"
   ]
  },
  {
   "cell_type": "code",
   "execution_count": 63,
   "metadata": {},
   "outputs": [
    {
     "name": "stderr",
     "output_type": "stream",
     "text": [
      "[nltk_data] Downloading package stopwords to /home/usama/nltk_data...\n",
      "[nltk_data]   Package stopwords is already up-to-date!\n"
     ]
    }
   ],
   "source": [
    "import nltk\n",
    "import re\n",
    "nltk.download(\"stopwords\")\n",
    "from nltk.corpus import stopwords\n",
    "stop = stopwords.words('english')"
   ]
  },
  {
   "cell_type": "markdown",
   "metadata": {},
   "source": [
    "### 2.1. Remove hashtags"
   ]
  },
  {
   "cell_type": "code",
   "execution_count": 64,
   "metadata": {},
   "outputs": [],
   "source": [
    "# Remove the hashtags from the data #xyz\n",
    "def remove_hashtags(data):\n",
    "    return [re.sub(r'#\\w+ ?', '', text) for text in data]"
   ]
  },
  {
   "cell_type": "markdown",
   "metadata": {},
   "source": [
    "### 2.2. Remove User mentions"
   ]
  },
  {
   "cell_type": "code",
   "execution_count": 65,
   "metadata": {},
   "outputs": [],
   "source": [
    "# Remove the user mentions from the data @xyz\n",
    "def remove_um(data):\n",
    "    return [re.sub(r'@\\w+ ?', '', text) for text in data]"
   ]
  },
  {
   "cell_type": "markdown",
   "metadata": {},
   "source": [
    "### 2.3. Remove urls"
   ]
  },
  {
   "cell_type": "code",
   "execution_count": 66,
   "metadata": {},
   "outputs": [],
   "source": [
    "# Remove the urls from the data\n",
    "def remove_urls(data):\n",
    "    return [re.sub(r'http\\S+', '', text) for text in data]"
   ]
  },
  {
   "cell_type": "markdown",
   "metadata": {},
   "source": [
    "### 2.4. Remove Stop words"
   ]
  },
  {
   "cell_type": "code",
   "execution_count": 67,
   "metadata": {},
   "outputs": [],
   "source": [
    "def rem_stop_words(data):\n",
    "    return [\" \".join(text for text in text.split() if text not in stop) for text in data]"
   ]
  },
  {
   "cell_type": "markdown",
   "metadata": {},
   "source": [
    "### 2.5. Remove Punctuations"
   ]
  },
  {
   "cell_type": "code",
   "execution_count": 68,
   "metadata": {},
   "outputs": [],
   "source": [
    "def rem_punc(data):\n",
    "    return [re.sub(r'[^\\w\\s]', '', text) for text in data]"
   ]
  },
  {
   "cell_type": "markdown",
   "metadata": {},
   "source": [
    "### 2.6. Remove numbers"
   ]
  },
  {
   "cell_type": "code",
   "execution_count": 69,
   "metadata": {},
   "outputs": [],
   "source": [
    "def rem_nums(data):\n",
    "    return [re.sub('\\d+', '', text) for text in data]\n",
    "    "
   ]
  },
  {
   "cell_type": "markdown",
   "metadata": {},
   "source": [
    "### 2.7 Lower case data "
   ]
  },
  {
   "cell_type": "code",
   "execution_count": 70,
   "metadata": {},
   "outputs": [],
   "source": [
    "def lower(data):\n",
    "    return [text.lower() for text in data]"
   ]
  },
  {
   "cell_type": "markdown",
   "metadata": {},
   "source": [
    "### 2.8. Apply all to clean data"
   ]
  },
  {
   "cell_type": "code",
   "execution_count": 71,
   "metadata": {},
   "outputs": [],
   "source": [
    "def clean_data(data):\n",
    "    data = remove_hashtags(data)\n",
    "    data = remove_um(data)\n",
    "    data = remove_urls(data)\n",
    "#     data = rem_stop_words(data)\n",
    "    data = rem_punc(data)\n",
    "    data = rem_nums(data)\n",
    "    data = lower(data)\n",
    "    return data"
   ]
  },
  {
   "cell_type": "code",
   "execution_count": 72,
   "metadata": {},
   "outputs": [],
   "source": [
    "def tfidf_vec(data):\n",
    "    from sklearn.feature_extraction.text import TfidfVectorizer\n",
    "    \n",
    "    # create the transform\n",
    "    vectorizer = TfidfVectorizer(max_features=2500, min_df=7, max_df=0.8)\n",
    "    # Tokenize and build\n",
    "    return vectorizer.fit_transform(data).toarray()"
   ]
  },
  {
   "cell_type": "code",
   "execution_count": 73,
   "metadata": {},
   "outputs": [],
   "source": [
    "def get_input():\n",
    "    return input(\"Enter Your tweet: \")"
   ]
  },
  {
   "cell_type": "code",
   "execution_count": 74,
   "metadata": {},
   "outputs": [],
   "source": [
    "def save_model(model, file='finalized_model.sav'):\n",
    "    import pickle\n",
    "    pickle.dump(model, open(file, 'wb'))"
   ]
  },
  {
   "cell_type": "code",
   "execution_count": 75,
   "metadata": {},
   "outputs": [],
   "source": [
    "def load_model(file='finalized_model.sav'):\n",
    "    import pickle\n",
    "    return pickle.load(open(file, 'rb'))"
   ]
  },
  {
   "cell_type": "code",
   "execution_count": 76,
   "metadata": {},
   "outputs": [],
   "source": [
    "def accuracy(y_test, y_pred):\n",
    "    count = 0.0\n",
    "    for i in range(len(y_test)):\n",
    "        if y_pred[i] == y_test[i]:\n",
    "            count += 1\n",
    "\n",
    "    return count/len(y_test)"
   ]
  },
  {
   "cell_type": "code",
   "execution_count": 77,
   "metadata": {},
   "outputs": [],
   "source": [
    "def rand_test(data, X_test, y_pred, features_nd, n):\n",
    "    import random\n",
    "    j = random.randint(0,(len(X_test))-n)\n",
    "    for i in range(j,j+n):\n",
    "        ind = features_nd.tolist().index(X_test[i].tolist())\n",
    "        print(\"Tweet: \", end=\"\")\n",
    "        print(data[ind])\n",
    "        print(\"Prediction: \", end=\"\")\n",
    "        print(y_pred[i])"
   ]
  },
  {
   "cell_type": "code",
   "execution_count": 78,
   "metadata": {},
   "outputs": [],
   "source": [
    "def sentiment_(n):\n",
    "    if n == 0:\n",
    "        return \"Negative\"\n",
    "    elif n == 1:\n",
    "        return \"Positive\"\n",
    "    else:\n",
    "        return \"Netural\""
   ]
  },
  {
   "cell_type": "code",
   "execution_count": 89,
   "metadata": {},
   "outputs": [],
   "source": [
    "def main():\n",
    "    from sklearn.model_selection import train_test_split\n",
    "    # Reading Dataset\n",
    "    train_data, test_data = read_train_test_data()\n",
    "    train_texts, train_sentiment = sep_text_sentiment(train_data)\n",
    "    test_texts, test_sentiment = sep_text_sentiment(test_data)\n",
    "\n",
    "    # Cleaning Data\n",
    "    train_texts = clean_data(train_texts)\n",
    "    test_texts = clean_data(test_texts)\n",
    "\n",
    "    data =  train_texts + test_texts\n",
    "    sent = train_sentiment + test_sentiment\n",
    "    \n",
    "    # Text Embedding\n",
    "    from sklearn.feature_extraction.text import HashingVectorizer\n",
    "    vectorizer = HashingVectorizer(n_features=10000)\n",
    "    # Fit the data to model\n",
    "    features = vectorizer.fit_transform(data)\n",
    "    features_nd = features.toarray() # for easy usage\n",
    "    \n",
    "    from sklearn.model_selection import train_test_split\n",
    "    # Split the data\n",
    "    X_train, X_test, y_train, y_test  = train_test_split(\n",
    "        features_nd, \n",
    "        sent,\n",
    "        train_size=0.80, \n",
    "        random_state=1234, \n",
    "        stratify=sent)\n",
    "    # Train the model \n",
    "    ## Uncomment these commented lines if this is the first time to run this program\n",
    "#     from sklearn.ensemble import RandomForestClassifier\n",
    "#     text_classifier = RandomForestClassifier(n_estimators=200, random_state=0)\n",
    "#     text_classifier.fit(X=X_train, y=y_train)\n",
    "    \n",
    "#     save_model(text_classifier) # Save Model\n",
    "    \n",
    "    text_classifier = load_model() # Load Model\n",
    "    \n",
    "    y_pred = text_classifier.predict(X_test)\n",
    "    print(\"Testing Accuracy: \", end=\"\")\n",
    "    print(accuracy(y_test, y_pred), end=\"\\n\\n\")\n",
    "    \n",
    "    # Random Test\n",
    "#     rand_test(data, X_test, y_pred, features_nd, 5)\n",
    "    \n",
    "    # Test From Input\n",
    "    while True:\n",
    "        text = get_input()\n",
    "        if text == '0':\n",
    "            break\n",
    "        text = clean_data([text])\n",
    "#         print(text)\n",
    "        vec = vectorizer.fit_transform(text)\n",
    "        pred = text_classifier.predict(vec)[0]\n",
    "        \n",
    "        \n",
    "        print(sentiment_(pred))\n"
   ]
  },
  {
   "cell_type": "code",
   "execution_count": 90,
   "metadata": {},
   "outputs": [
    {
     "name": "stdout",
     "output_type": "stream",
     "text": [
      "Testing Accuracy: 0.7537568306010929\n",
      "\n",
      "Enter Your tweet: This is amazing\n",
      "Positive\n",
      "Enter Your tweet: We're still here guys  you are the worst\n",
      "Negative\n",
      "Enter Your tweet: Please dont trivialize me  this is a joke not a slow day or slow experience\n",
      "Negative\n",
      "Enter Your tweet: I have a party of  booked for a flight in aug at am how can i find out how much it would cost to change to an earlier flight\n",
      "Netural\n",
      "Enter Your tweet: Thank you very much\n",
      "Positive\n",
      "Enter Your tweet: I love it\n",
      "Positive\n",
      "Enter Your tweet: Hi I have a travel question could you, please follow me so I can DM you\n",
      "Netural\n",
      "Enter Your tweet: He is very bad boy\n",
      "Negative\n",
      "Enter Your tweet: Thanks\n",
      "Positive\n",
      "Enter Your tweet: No\n",
      "Negative\n",
      "Enter Your tweet: All good about her\n",
      "Positive\n",
      "Enter Your tweet: 0\n"
     ]
    }
   ],
   "source": [
    "if __name__ == \"__main__\":\n",
    "    main()"
   ]
  },
  {
   "cell_type": "code",
   "execution_count": null,
   "metadata": {},
   "outputs": [],
   "source": []
  }
 ],
 "metadata": {
  "kernelspec": {
   "display_name": "Python 3",
   "language": "python",
   "name": "python3"
  },
  "language_info": {
   "codemirror_mode": {
    "name": "ipython",
    "version": 3
   },
   "file_extension": ".py",
   "mimetype": "text/x-python",
   "name": "python",
   "nbconvert_exporter": "python",
   "pygments_lexer": "ipython3",
   "version": "3.6.9"
  }
 },
 "nbformat": 4,
 "nbformat_minor": 2
}
